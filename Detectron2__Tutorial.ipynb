{
 "cells": [
  {
   "cell_type": "markdown",
   "metadata": {
    "colab_type": "text",
    "id": "vM54r6jlKTII"
   },
   "source": [
    "# Installation"
   ]
  },
  {
   "cell_type": "code",
   "execution_count": null,
   "metadata": {
    "colab": {},
    "colab_type": "code",
    "id": "9_FzH13EjseR"
   },
   "outputs": [],
   "source": [
    "# install dependencies:\n",
    "import torch, torchvision\n",
    "torch.__version__"
   ]
  },
  {
   "cell_type": "code",
   "execution_count": null,
   "metadata": {},
   "outputs": [],
   "source": [
    "!git clone https://github.com/facebookresearch/detectron2 detectron2_repo"
   ]
  },
  {
   "cell_type": "code",
   "execution_count": null,
   "metadata": {},
   "outputs": [],
   "source": [
    "!pip install -e detectron2_repo"
   ]
  },
  {
   "cell_type": "markdown",
   "metadata": {
    "colab_type": "text",
    "id": "Vk4gID50K03a"
   },
   "source": [
    "# Run a pre-trained detectron2 model (after retarting Jupyter Runtime)"
   ]
  },
  {
   "cell_type": "code",
   "execution_count": null,
   "metadata": {
    "colab": {},
    "colab_type": "code",
    "id": "ZyAvNCJMmvFF"
   },
   "outputs": [],
   "source": [
    "# Restart your runtime prior to this to let installations in cell one take effect\n",
    "from detectron2.utils.logger import setup_logger\n",
    "\n",
    "setup_logger()\n",
    "\n",
    "from detectron2.data.datasets import register_coco_instances\n",
    "from detectron2.engine import DefaultTrainer\n",
    "\n",
    "import os\n",
    "import pickle"
   ]
  },
  {
   "cell_type": "code",
   "execution_count": null,
   "metadata": {},
   "outputs": [],
   "source": [
    "from utils import *"
   ]
  },
  {
   "cell_type": "code",
   "execution_count": null,
   "metadata": {},
   "outputs": [],
   "source": [
    "config_file_path = \"COCO-Detection/faster_rcnn_R_50_FPN_3x.yaml\"\n",
    "checkpoint_url = \"COCO-Detection/faster_rcnn_R_50_FPN_3x.yaml\"\n",
    "\n",
    "output_dir = \"./output/object_detection\"\n",
    "num_class = 1\n",
    "\n",
    "device = \"cuda\" #or cpu\n",
    "\n",
    "train_dataset_name = \"train_dataset\"\n",
    "train_images_path = \"train\"\n",
    "train_json_annot_path = \"train.json\"\n",
    "\n",
    "test_dataset_name = \"test_dataset\"\n",
    "test_images_path = \"test\"\n",
    "test_json_annot_path = \"test.json\"\n",
    "\n",
    "cfg_save_path = \"OD_cfg.pickle\""
   ]
  },
  {
   "cell_type": "code",
   "execution_count": null,
   "metadata": {},
   "outputs": [],
   "source": [
    "register_coco_instances(\n",
    "    name = train_dataset_name, \n",
    "    metadata={},\n",
    "    json_file=train_json_annot_path,\n",
    "    image_root=train_images_path)\n",
    "\n",
    "register_coco_instances(\n",
    "    name = test_dataset_name, \n",
    "    metadata={},\n",
    "    json_file=test_json_annot_path,\n",
    "    image_root=test_images_path)\n",
    "\n",
    "#plot_samples(dataset_name=train_dataset_name, n=2)\n"
   ]
  },
  {
   "cell_type": "code",
   "execution_count": null,
   "metadata": {},
   "outputs": [],
   "source": [
    "def main():\n",
    "    cfg = get_train_cfg(config_file_path, checkpoint_url, train_dataset_name, test_dataset_name, num_class, device, output_dir)\n",
    "\n",
    "    with open(cfg_save_path, 'wb') as f:\n",
    "        pickle.dump(cfg, f, protocol=pickle.HIGHEST_PROTOCOL)\n",
    "\n",
    "    os.makedirs(cfg.OUTPUT_DIR, exist_ok=True)\n",
    "\n",
    "    trainer = DefaultTrainer(cfg)\n",
    "    trainer.resume_or_load(resume=False)\n",
    "\n",
    "    trainer.train()\n",
    "\n",
    "if __name__ == '__main__':\n",
    "    main()"
   ]
  }
 ],
 "metadata": {
  "accelerator": "GPU",
  "colab": {
   "collapsed_sections": [],
   "name": "Detectron2 Tutorial.ipynb",
   "provenance": [],
   "toc_visible": true
  },
  "kernelspec": {
   "display_name": "Python 3 (ipykernel)",
   "language": "python",
   "name": "python3"
  },
  "language_info": {
   "codemirror_mode": {
    "name": "ipython",
    "version": 3
   },
   "file_extension": ".py",
   "mimetype": "text/x-python",
   "name": "python",
   "nbconvert_exporter": "python",
   "pygments_lexer": "ipython3",
   "version": "3.10.13"
  }
 },
 "nbformat": 4,
 "nbformat_minor": 1
}
